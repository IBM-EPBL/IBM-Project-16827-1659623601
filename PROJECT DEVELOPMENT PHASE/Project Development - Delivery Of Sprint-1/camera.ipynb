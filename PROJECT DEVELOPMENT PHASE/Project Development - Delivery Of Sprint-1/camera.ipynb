{
  "cells": [
    {
      "cell_type": "code",
      "execution_count": 1,
      "metadata": {
        "id": "HTC52eGE7V19"
      },
      "outputs": [
        {
          "ename": "ModuleNotFoundError",
          "evalue": "No module named 'cv2'",
          "output_type": "error",
          "traceback": [
            "\u001b[1;31m---------------------------------------------------------------------------\u001b[0m",
            "\u001b[1;31mModuleNotFoundError\u001b[0m                       Traceback (most recent call last)",
            "\u001b[1;32m<ipython-input-1-c4c1bca23e37>\u001b[0m in \u001b[0;36m<module>\u001b[1;34m\u001b[0m\n\u001b[1;32m----> 1\u001b[1;33m \u001b[1;32mimport\u001b[0m \u001b[0mcv2\u001b[0m\u001b[1;33m\u001b[0m\u001b[1;33m\u001b[0m\u001b[0m\n\u001b[0m\u001b[0;32m      2\u001b[0m \u001b[1;32mimport\u001b[0m \u001b[0mnumpy\u001b[0m \u001b[1;32mas\u001b[0m \u001b[0mnp\u001b[0m\u001b[1;33m\u001b[0m\u001b[1;33m\u001b[0m\u001b[0m\n\u001b[0;32m      3\u001b[0m \u001b[1;32mfrom\u001b[0m \u001b[0mtensorflow\u001b[0m\u001b[1;33m.\u001b[0m\u001b[0mkeras\u001b[0m\u001b[1;33m.\u001b[0m\u001b[0mmodels\u001b[0m \u001b[1;32mimport\u001b[0m \u001b[0mload_model\u001b[0m\u001b[1;33m\u001b[0m\u001b[1;33m\u001b[0m\u001b[0m\n\u001b[0;32m      4\u001b[0m \u001b[1;32mfrom\u001b[0m \u001b[0mtensorflow\u001b[0m\u001b[1;33m.\u001b[0m\u001b[0mkeras\u001b[0m\u001b[1;33m.\u001b[0m\u001b[0mpreprocessing\u001b[0m \u001b[1;32mimport\u001b[0m \u001b[0mimage\u001b[0m\u001b[1;33m\u001b[0m\u001b[1;33m\u001b[0m\u001b[0m\n",
            "\u001b[1;31mModuleNotFoundError\u001b[0m: No module named 'cv2'"
          ]
        }
      ],
      "source": [
        "import cv2\n",
        "import numpy as np\n",
        "from tensorflow.keras.models import load_model\n",
        "from tensorflow.keras.preprocessing import image"
      ]
    },
    {
      "cell_type": "code",
      "execution_count": null,
      "metadata": {
        "id": "ixuRBdKj7iP4"
      },
      "outputs": [],
      "source": [
        "class Video(object):\n",
        "\tdef __init__(self):\n",
        "\t\tself.video = cv2.VideoCapture(0)\n",
        "\t\tself.roi_start = (50, 150)\n",
        "\t\tself.roi_end = (250, 350)\n",
        "\t\tself.model = load_model('asl_model.h5') # Execute Local Trained Model\n",
        "\t\t# self.model = load_model('IBM_Communication_Model.h5') # Execute IBM Trained Model\n",
        "\t\tself.index=['A','B','C','D','E','F','G','H','I']\n",
        "\t\tself.y = None"
      ]
    },
    {
      "cell_type": "code",
      "execution_count": null,
      "metadata": {
        "id": "DOjMYOzo8MKD"
      },
      "outputs": [],
      "source": [
        "\tdef __del__(self):\n",
        "\t\tself.video.release()\n",
        "\tdef get_frame(self):\n",
        "\t\tret,frame = self.video.read()\n",
        "\t\tframe = cv2.resize(frame, (640, 480))\n",
        "\t\tcopy = frame.copy()\n",
        "\t\tcopy = copy[150:150+200,50:50+200]\n"
      ]
    },
    {
      "cell_type": "code",
      "execution_count": null,
      "metadata": {
        "id": "pqj-FlwP8Rfg"
      },
      "outputs": [],
      "source": [
        "\t\t# Prediction Start\n",
        "\t\tcv2.imwrite('image.jpg',copy)\n",
        "\t\tcopy_img = image.load_img('image.jpg', target_size=(64,64))\n",
        "\t\tx = image.img_to_array(copy_img)\n",
        "\t\tx = np.expand_dims(x, axis=0)\n",
        "\t\tpred = np.argmax(self.model.predict(x), axis=1)\n",
        "\t\tself.y = pred[0]\n",
        "\t\tcv2.putText(frame,'The Predicted Alphabet is: '+str(self.index[self.y]),(100,50),cv2.FONT_HERSHEY_SIMPLEX,1,(0,0,0),3)\n",
        "\t\tret,jpg = cv2.imencode('.jpg', frame)\n",
        "\t\treturn jpg.tobytes()"
      ]
    },
    {
      "cell_type": "code",
      "execution_count": null,
      "metadata": {},
      "outputs": [],
      "source": []
    }
  ],
  "metadata": {
    "colab": {
      "provenance": []
    },
    "kernelspec": {
      "display_name": "Python 3.8.8 64-bit ('base': conda)",
      "language": "python",
      "name": "python3"
    },
    "language_info": {
      "codemirror_mode": {
        "name": "ipython",
        "version": 3
      },
      "file_extension": ".py",
      "mimetype": "text/x-python",
      "name": "python",
      "nbconvert_exporter": "python",
      "pygments_lexer": "ipython3",
      "version": "3.8.8"
    },
    "vscode": {
      "interpreter": {
        "hash": "7679c2132d3f6ce38c9df14d554b39c06862b36a4e6689c81f9ae15bd0911d7d"
      }
    }
  },
  "nbformat": 4,
  "nbformat_minor": 0
}
